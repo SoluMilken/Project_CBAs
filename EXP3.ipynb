{
 "cells": [
  {
   "cell_type": "code",
   "execution_count": null,
   "metadata": {
    "collapsed": true
   },
   "outputs": [],
   "source": [
    "''' \n",
    "Multi-armed Bandit Problem\n",
    "Exp3 : Exponential Weighted Algorithm\n",
    "# Input ========================================================================\n",
    "gamma     : parameter 0<a<=1\n",
    "T         : number of trails   \n",
    "K         : number of machines(arms,bandits,articles)\n",
    "r         : reward \n",
    "# Output ========================================================================\n",
    "selected machine in t th trail\n",
    "'''\n",
    "import numpy as np\n",
    "import math\n",
    "\n",
    "def EXP3(gamma,T,K,r)\n",
    "    accumulated_reward = np.ones(K, dtype=np.int)\n",
    "    for t in range(T): \n",
    "        if t == 0:\n",
    "            # first trail\n",
    "            ind = rand.randrange(K)\n",
    "            accumulated_reward[ind] = math.exp((gamma./K)*r)  # r: reward in first trail\n",
    "            deno = K-1 + accumulated_reward[ind]\n",
    "        else:\n",
    "            # more than one trail\n",
    "            prob_for_each_arm = ((1-gamma)/deno)*accumulated_reward + gamma./K\n",
    "            \n",
    "            accumulated_prob = np.zeros(K, dtype=np.int)\n",
    "            val = rand.random()\n",
    "            accumulated_prob[0] = prob_for_each_arm[0]\n",
    "            for ii in range(1,K):\n",
    "                accumulated_prob[ii] = accumulated_prob[ii-1] + prob_for_each_arm[ii]\n",
    "            for jj in range(K):\n",
    "                if val < accumulated_prob[jj]\n",
    "                    ind = jj\n",
    "                    break\n",
    "            deno = deno - accumulated_reward[ind]\n",
    "            accumulated_reward[ind] = accumulated_reward[ind]*math.exp((gamma*r)./(K*prob_for_each_arm[ind])    # r: reward in trail t\n",
    "            deno = deno + accumulated_reward[ind]\n",
    "    \n",
    "    return accumulated_reward                                                   "
   ]
  }
 ],
 "metadata": {
  "kernelspec": {
   "display_name": "Python 2",
   "language": "python",
   "name": "python2"
  },
  "language_info": {
   "codemirror_mode": {
    "name": "ipython",
    "version": 2
   },
   "file_extension": ".py",
   "mimetype": "text/x-python",
   "name": "python",
   "nbconvert_exporter": "python",
   "pygments_lexer": "ipython2",
   "version": "2.7.11"
  }
 },
 "nbformat": 4,
 "nbformat_minor": 0
}
