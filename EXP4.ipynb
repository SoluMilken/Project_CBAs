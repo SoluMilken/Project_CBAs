{
 "cells": [
  {
   "cell_type": "code",
   "execution_count": null,
   "metadata": {
    "collapsed": false
   },
   "outputs": [],
   "source": [
    "''' \n",
    "Contextual Bandit Problem\n",
    "EXP4 : Exponential Weighted Algorithm for Exploration and Exploitation \n",
    "       using Expert Advices\n",
    "Upper bound for regret(T) = O(T+K*lnN)\n",
    "# Input ========================================================================\n",
    "alpha     : parameter alpha>0\n",
    "T         : number of trails   \n",
    "K         : number of machines(arms,bandits,articles)\n",
    "E         : expert advices matrix (dim of advices(k)*number of experts(N))\n",
    "r         : reward \n",
    "# Output ========================================================================\n",
    "selected machine in t th trail\n",
    "'''\n",
    "strHello = \"This is a contextual bandit algorithm -- EXP4\"\n",
    "print strHello\n",
    "\n",
    "def EXP4(gamma,T,K,E,r)\n",
    "    #initialization\n",
    "    N = len(E[0])       # number of experts\n",
    "    weight_of_advices = np.ones(N, dtype=np.int)\n",
    "    weighted_reward = np.zeros(N, dtype=np.int)\n",
    "    \n",
    "    for t in range(T): \n",
    "        [weighted_reward,weight_of_advices] = inner_EXP4(gamma,K,E,weighted_reward,r)\n",
    "        # Output\n",
    "        \n",
    "\n",
    "def inner_EXP4(gamma,K,E,weighted_reward,weight_of_advices,r)\n",
    "    prob_for_each_arm = ((1-gamma)./sum(weight_of_advices))*np.dot(E,weight_of_advices) + gamma./K\n",
    "\n",
    "    accumulated_prob = np.zeros(K, dtype=np.int)\n",
    "    val = rand.random()\n",
    "    accumulated_prob[0] = prob_for_each_arm[0]\n",
    "    for ii in range(1,K):\n",
    "        accumulated_prob[ii] = accumulated_prob[ii-1] + prob_for_each_arm[ii]\n",
    "    for jj in range(K):\n",
    "        if val < accumulated_prob[jj]\n",
    "            ind = jj\n",
    "            break\n",
    "    weighted_reward = weighted_reward + (r./prob_for_each_arm[ind])*E[ind]  # r: reward in trail t\n",
    "    weight_of_advices = np.exp((gamma./K)*weighted_reward) \n",
    "    \n",
    "    return weighted_reward,weight_of_advices                                                 "
   ]
  },
  {
   "cell_type": "code",
   "execution_count": null,
   "metadata": {
    "collapsed": true
   },
   "outputs": [],
   "source": []
  }
 ],
 "metadata": {
  "kernelspec": {
   "display_name": "Python 2",
   "language": "python",
   "name": "python2"
  },
  "language_info": {
   "codemirror_mode": {
    "name": "ipython",
    "version": 2
   },
   "file_extension": ".py",
   "mimetype": "text/x-python",
   "name": "python",
   "nbconvert_exporter": "python",
   "pygments_lexer": "ipython2",
   "version": "2.7.11"
  }
 },
 "nbformat": 4,
 "nbformat_minor": 0
}
