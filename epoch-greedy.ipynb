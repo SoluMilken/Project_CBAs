{
 "cells": [
  {
   "cell_type": "code",
   "execution_count": null,
   "metadata": {
    "collapsed": true
   },
   "outputs": [],
   "source": [
    "''' \n",
    "Multi-armed Bandit Problem\n",
    "Epoch-Greedy \n",
    "# Input ========================================================================\n",
    "c         : parameter c>0\n",
    "d         : parameter d belongs to (0,1)\n",
    "T         : number of trails   \n",
    "K         : number of machines(arms,bandits,articles)\n",
    "r         : reward \n",
    "# Output ========================================================================\n",
    "selected machine in t th trail\n",
    "'''\n",
    "import random as rand\n",
    "import numpy as np\n",
    "\n",
    "def Epoch_Greedy(c,d,T,K,r)\n",
    "    accumulated_reward = np.zeros(K, dtype=np.int)\n",
    "\n",
    "    for t in range(T):\n",
    "        if t == 0:\n",
    "            # first trail\n",
    "            ind = rand.randrange(K)\n",
    "            accumulated_reward[ind] = r  # r: reward in first trail\n",
    "        else:\n",
    "            # more than one trail\n",
    "            epoch = min(1,(c*K)/(d*d*(t+1)))\n",
    "            val = rand.random()\n",
    "            if val < epoch:\n",
    "                ind = rand.randrange(K)\n",
    "                accumulated_reward[ind] = accumulated_reward[ind] + r # r: reward for ind machine in trail t\n",
    "            else:\n",
    "                ind = accumulated_reward.index(max(accumulated_reward))\n",
    "                accumulated_reward[ind] = accumulated_reward[ind] + r # r: reward for ind machine in trail t\n",
    "            "
   ]
  }
 ],
 "metadata": {
  "kernelspec": {
   "display_name": "Python 2",
   "language": "python",
   "name": "python2"
  },
  "language_info": {
   "codemirror_mode": {
    "name": "ipython",
    "version": 2
   },
   "file_extension": ".py",
   "mimetype": "text/x-python",
   "name": "python",
   "nbconvert_exporter": "python",
   "pygments_lexer": "ipython2",
   "version": "2.7.11"
  }
 },
 "nbformat": 4,
 "nbformat_minor": 0
}
