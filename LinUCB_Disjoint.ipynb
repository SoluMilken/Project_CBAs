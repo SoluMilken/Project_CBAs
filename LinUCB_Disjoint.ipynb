{
 "cells": [
  {
   "cell_type": "code",
   "execution_count": 1,
   "metadata": {
    "collapsed": false
   },
   "outputs": [
    {
     "ename": "IndentationError",
     "evalue": "expected an indented block (<ipython-input-1-495f192c378f>, line 16)",
     "output_type": "error",
     "traceback": [
      "\u001b[1;36m  File \u001b[1;32m\"<ipython-input-1-495f192c378f>\"\u001b[1;36m, line \u001b[1;32m16\u001b[0m\n\u001b[1;33m    A = A.append(sparse.eye(d, dtype=np.int8))\u001b[0m\n\u001b[1;37m    ^\u001b[0m\n\u001b[1;31mIndentationError\u001b[0m\u001b[1;31m:\u001b[0m expected an indented block\n"
     ]
    }
   ],
   "source": [
    "''' \n",
    "LinUCB with Disjoint Linear Models \n",
    "ref : A Contextual-Bandit Approach to Personalized News Article Recommendation\n",
    "authors : Lihong Li, Wei Chu, John Langford (Yahoo! Labs), \n",
    "          Robert E.Schapire (Dep. of CS Princeton Univ.)\n",
    "url: http://arxiv.org/pdf/1003.0146v2.pdf\n",
    "# Input ========================================================================\n",
    "alpha >=0 : parameter   \n",
    "t         : t th trails\n",
    "K         : number of machines(arms,bandits,articles)\n",
    "X         : article features (K*d, features dim = d) (datatype = list)\n",
    "r         : reward \n",
    "# Output ========================================================================\n",
    "EXP ? \n",
    "'''\n",
    "# initialization\n",
    "import numpy as np\n",
    "from scipy import sparse\n",
    "import math\n",
    "d = len(X[0])  # dimension of features\n",
    "K = len(X)     # number of machines(arms,bandits,articles)\n",
    "A = []\n",
    "b = []\n",
    "Boolean = [False]*K\n",
    "\n",
    "# Training Phase\n",
    "for t in range(T):\n",
    "    A = A.append(sparse.eye(d, dtype=np.int8))\n",
    "    b = b.append(sparse.csr_matrix((d,1),dtype = np.int8))\n",
    "    \n",
    "    [P,H,deno] = inner_LinUCB(alpha,t,d,K,X,A,b,Boolean)\n",
    "    \n",
    "    # Choose arm with max UCB\n",
    "    ind = P.index(max(P))\n",
    "    Boolean[ind] = True\n",
    "    \n",
    "    # Update matrix A and vector b \n",
    "    A[ind] = A[ind] - (np.dot(H[ind].T,H[ind]))/(1+deno[ind])\n",
    "    b[ind] = b[ind] + r*X[ind].T  #(reward \"r\"要從外面抓進來)\n",
    "    \n",
    "    # return (1)the selected machine in this trail\n",
    "    print ind+1\n",
    "    \n",
    "    # return  ========================= (未精簡計算量)\n",
    "    # (2) the expected reward of each machine (arm) in this trail\\\n",
    "    EXP = []\n",
    "    for ii in range(K):\n",
    "        r_theta = np.dot(A[ii],b)\n",
    "        EXP.append(np.dot(r_theta,X[ii]))\n",
    "    \n",
    "    print EXP\n",
    "        \n",
    "    \n",
    "    \n",
    "    \n",
    "    \n",
    "# Compute UCB for each machine (arm) ===============================\n",
    "def inner_LinUCB(alpha,t,d,K,X,A,b,Boolean)\n",
    "    # inner training phase\n",
    "    X = np.array(X)\n",
    "    if t == 0\n",
    "    # first trail\n",
    "        P = []\n",
    "        for ii in range(K):\n",
    "            val = np.dot(X[ii],X[ii])\n",
    "            P.append(val) \n",
    "            H.append(X[ii])\n",
    "            deno.append(val)\n",
    "            \n",
    "    else\n",
    "    # More than one trail\n",
    "        P = []  # UCB\n",
    "        H = []\n",
    "        deno = []\n",
    "        jj = 0\n",
    "        for ii in Boolean:\n",
    "            if ii==True:        \n",
    "                theta = np.dot(A[jj],b[jj])\n",
    "                h = np.dot(X[jj],A[jj])\n",
    "                val = np.dot(h,X[jj].T)\n",
    "                P.append(np.dot(theta,X[jj])+ alpha*math.sqrt(val))\n",
    "                H.append(h)\n",
    "                deno.append(val)\n",
    "                jj = jj + 1\n",
    "            else:\n",
    "                val = np.dot(X[jj],X[jj])\n",
    "                P.append(val) \n",
    "                H.append(X[jj])\n",
    "                deno.append(val)\n",
    "                jj = jj + 1\n",
    "    return P,H,deno\n",
    "        "
   ]
  },
  {
   "cell_type": "code",
   "execution_count": null,
   "metadata": {
    "collapsed": false
   },
   "outputs": [],
   "source": []
  },
  {
   "cell_type": "code",
   "execution_count": null,
   "metadata": {
    "collapsed": true
   },
   "outputs": [],
   "source": []
  }
 ],
 "metadata": {
  "kernelspec": {
   "display_name": "Python 2",
   "language": "python",
   "name": "python2"
  },
  "language_info": {
   "codemirror_mode": {
    "name": "ipython",
    "version": 2
   },
   "file_extension": ".py",
   "mimetype": "text/x-python",
   "name": "python",
   "nbconvert_exporter": "python",
   "pygments_lexer": "ipython2",
   "version": "2.7.11"
  }
 },
 "nbformat": 4,
 "nbformat_minor": 0
}
